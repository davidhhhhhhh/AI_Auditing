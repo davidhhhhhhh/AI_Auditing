{
 "cells": [
  {
   "cell_type": "code",
   "id": "initial_id",
   "metadata": {
    "collapsed": true,
    "ExecuteTime": {
     "end_time": "2025-02-19T16:31:15.124920Z",
     "start_time": "2025-02-19T16:31:14.836692Z"
    }
   },
   "source": "import pandas as pd;",
   "outputs": [],
   "execution_count": 1
  },
  {
   "metadata": {
    "ExecuteTime": {
     "end_time": "2025-02-19T16:34:12.648786Z",
     "start_time": "2025-02-19T16:34:11.770681Z"
    }
   },
   "cell_type": "code",
   "source": [
    "# Import raw data\n",
    "movie = pd.read_csv('RawData/TMDB_with_ME.csv')\n",
    "tv_s = pd.read_csv('RawData/short_TMDB_with_ME.csv')\n",
    "tv_m = pd.read_csv('RawData/mid_wiki_with_ME.csv')\n",
    "tv_l = pd.read_csv('RawData/long_IMDB_with_ME.csv')"
   ],
   "id": "584a9a68aeefd904",
   "outputs": [],
   "execution_count": 2
  },
  {
   "metadata": {
    "ExecuteTime": {
     "end_time": "2025-02-19T16:34:38.630608Z",
     "start_time": "2025-02-19T16:34:38.626755Z"
    }
   },
   "cell_type": "code",
   "source": [
    "print(movie.columns)\n",
    "print(tv_s.columns)\n",
    "print(tv_m.columns)\n",
    "print(tv_l.columns)"
   ],
   "id": "15865ab6e556e35",
   "outputs": [
    {
     "name": "stdout",
     "output_type": "stream",
     "text": [
      "Index(['Title', 'id', 'rating', 'genres', 'Release year', 'plots', 'G score',\n",
      "       'PG score', 'PG-13 score', 'R score', 'NC-17 score',\n",
      "       'Identity_category', 'Big_identity', 'Sub_Identities',\n",
      "       'OpenAI_ME_responses', 'OpenAI_ME_bool', 'perspective_ME_responses',\n",
      "       'OctoAI_ME_responses', 'OctoAI_ME_bool', 'Google_ME_responses',\n",
      "       'OpenAI_normalized', 'Anthropic_ME_responses', 'Anthropic_ME_bool',\n",
      "       'OpenAI_data', 'Anthropic_data', 'OctoAI_data', 'Perspective_data',\n",
      "       'Google_data'],\n",
      "      dtype='object')\n",
      "Index(['show_name', 'episode_title', 'genres', 'age_rating', 'release_date',\n",
      "       'tags', 'show-id', 'episode-overview', 'gender-cts',\n",
      "       'Identity_category', 'Big_identity', 'Sub_Identities',\n",
      "       'OpenAI_ME_responses', 'OpenAI_ME_bool', 'perspective_ME_responses',\n",
      "       'Google_ME_responses', 'Anthropic_ME_responses', 'Anthropic_ME_bool',\n",
      "       'PG score', 'PG-13 score', 'OctoAI_ME_responses', 'OctoAI_ME_bool',\n",
      "       'OpenAI_normalized', 'OpenAI_data', 'Anthropic_data', 'OctoAI_data',\n",
      "       'Perspective_data', 'Google_data'],\n",
      "      dtype='object')\n",
      "Index(['show_name', 'episode_title', 'genres', 'age_rating', 'release_date',\n",
      "       'tags', 'show-id', 'gender-cts', 'wiki_descs', 'Identity_category',\n",
      "       'Big_identity', 'Sub_Identities', 'OpenAI_ME_responses',\n",
      "       'OpenAI_ME_bool', 'perspective_ME_responses', 'Google_ME_responses',\n",
      "       'Anthropic_ME_responses', 'Anthropic_ME_bool', 'PG score',\n",
      "       'PG-13 score', 'OctoAI_ME_responses', 'OctoAI_ME_bool',\n",
      "       'OpenAI_normalized', 'OpenAI_data', 'Anthropic_data', 'OctoAI_data',\n",
      "       'Perspective_data', 'Google_data'],\n",
      "      dtype='object')\n",
      "Index(['show_link', 'show_name', 'episode_title', 'episode_link', 'wiki_url',\n",
      "       'description', 'genres', 'age_rating', 'release_date', 'directors',\n",
      "       'writers', 'cast', 'tags', 'character_names',\n",
      "       'synopsis_with_character_names', 'Identity_category', 'Big_identity',\n",
      "       'Sub_Identities', 'OpenAI_ME_responses', 'OpenAI_ME_bool',\n",
      "       'perspective_ME_responses', 'Google_ME_responses',\n",
      "       'Anthropic_ME_responses', 'Anthropic_ME_bool', 'PG score',\n",
      "       'PG-13 score', 'OctoAI_ME_responses', 'OctoAI_ME_bool',\n",
      "       'OpenAI_normalized', 'OpenAI_data', 'Anthropic_data', 'OctoAI_data',\n",
      "       'Perspective_data', 'Google_data'],\n",
      "      dtype='object')\n"
     ]
    }
   ],
   "execution_count": 3
  },
  {
   "metadata": {
    "ExecuteTime": {
     "end_time": "2025-02-19T16:48:46.921876Z",
     "start_time": "2025-02-19T16:48:46.916461Z"
    }
   },
   "cell_type": "code",
   "source": "print(tv_l[['description', 'cast', 'synopsis_with_character_names']].head())",
   "id": "863ff567365e9c96",
   "outputs": [
    {
     "name": "stdout",
     "output_type": "stream",
     "text": [
      "                                         description cast  \\\n",
      "0  Kate uses a combination of charm, subterfuge, ...   []   \n",
      "1  Hard-hitting railroad president Norman Curtis ...   []   \n",
      "2  Flyod Smoot, the conductor, is courting a woma...   []   \n",
      "3  After nearly getting into a fight with his ex-...   []   \n",
      "4  Charlie conducts a sleep deprivation experimen...   []   \n",
      "\n",
      "                       synopsis_with_character_names  \n",
      "0  Kate realizes she needs to team up with the gr...  \n",
      "1  Norman Curtis, the president of the railroad, ...  \n",
      "2  After Floyd is jilted b his mail-order sweethe...  \n",
      "3  \"Anger Management\" - \"Charlie Goes Back to The...  \n",
      "4  \"Anger Management' - \"Charlie Tries Sleep Depr...  \n"
     ]
    }
   ],
   "execution_count": 10
  },
  {
   "metadata": {},
   "cell_type": "markdown",
   "source": "# OpenAI ME on TV and Movie",
   "id": "4c9e12c80a5acef3"
  },
  {
   "metadata": {
    "ExecuteTime": {
     "end_time": "2025-02-19T16:50:07.163019Z",
     "start_time": "2025-02-19T16:50:07.139799Z"
    }
   },
   "cell_type": "code",
   "source": [
    "movie_select = movie[['Title', 'rating', 'plots', 'OpenAI_ME_bool']]\n",
    "tv_s_select = tv_s[['show_name', 'age_rating', 'episode-overview', 'OpenAI_ME_bool']]\n",
    "tv_m_select = tv_m[['show_name', 'age_rating', 'wiki_descs', 'OpenAI_ME_bool']]\n",
    "tv_l_select = tv_l[['show_name', 'age_rating', 'synopsis_with_character_names', 'OpenAI_ME_bool']]\n",
    "\n",
    "print(movie_select.head())\n",
    "print(tv_s_select.head())\n",
    "print(tv_m_select.head())\n",
    "print(tv_l_select.head())\n"
   ],
   "id": "f63a6bfdde74653d",
   "outputs": [
    {
     "name": "stdout",
     "output_type": "stream",
     "text": [
      "                             Title rating  \\\n",
      "0                   Dune: Part Two  PG-13   \n",
      "1                  Kung Fu Panda 4     PG   \n",
      "2  Godzilla x Kong: The New Empire  PG-13   \n",
      "3                       Road House      R   \n",
      "4                       Madame Web  PG-13   \n",
      "\n",
      "                                               plots  OpenAI_ME_bool  \n",
      "0  Following the destruction of House Atreides by...               0  \n",
      "1  In the Valley of Peace, Po helps Li Shan and M...               0  \n",
      "2  Three years after defeating Mechagodzilla, Kon...               0  \n",
      "3  Troubled former UFC middleweight fighter Elwoo...               1  \n",
      "4  In 1973 in the jungles of Peru, a research tea...               0  \n",
      "            show_name age_rating  \\\n",
      "0  Petticoat junction         PG   \n",
      "1  Petticoat junction         PG   \n",
      "2  Petticoat junction         PG   \n",
      "3  Petticoat junction         PG   \n",
      "4  Petticoat junction         PG   \n",
      "\n",
      "                                    episode-overview  OpenAI_ME_bool  \n",
      "0  Homer Bedloe, trouble-shooter for the C&F W Ra...               0  \n",
      "1  Homer Bedloe, trouble-shooter for the C&F W Ra...               0  \n",
      "2  Kate uses a combination of charm, subterfuge, ...               0  \n",
      "3  Kate uses a combination of charm, subterfuge, ...               0  \n",
      "4  C&F W Railroad President Norman P. Curtis is i...               0  \n",
      "            show_name age_rating  \\\n",
      "0  Petticoat junction         PG   \n",
      "1  Petticoat junction         PG   \n",
      "2  Petticoat junction         PG   \n",
      "3  Petticoat junction         PG   \n",
      "4  Petticoat junction         PG   \n",
      "\n",
      "                                          wiki_descs  OpenAI_ME_bool  \n",
      "0  Homer Bedloe, trouble-shooter for the C.& F.W....               0  \n",
      "1  Kate and the girls want to keep Homer Bedloe a...               0  \n",
      "2  Kate wants to go into town, but the Cannonball...               0  \n",
      "3  Floyd Smoot, the conductor, is courting a woma...               0  \n",
      "4  Salesmen Mr. Blake (George Cisar) and Mr. Gord...               0  \n",
      "            show_name age_rating  \\\n",
      "0  Petticoat Junction         PG   \n",
      "1  Petticoat Junction         PG   \n",
      "2  Petticoat Junction         PG   \n",
      "3    Anger Management      PG-13   \n",
      "4    Anger Management      PG-13   \n",
      "\n",
      "                       synopsis_with_character_names  OpenAI_ME_bool  \n",
      "0  Kate realizes she needs to team up with the gr...               0  \n",
      "1  Norman Curtis, the president of the railroad, ...               0  \n",
      "2  After Floyd is jilted b his mail-order sweethe...               0  \n",
      "3  \"Anger Management\" - \"Charlie Goes Back to The...               0  \n",
      "4  \"Anger Management' - \"Charlie Tries Sleep Depr...               0  \n"
     ]
    }
   ],
   "execution_count": 11
  }
 ],
 "metadata": {
  "kernelspec": {
   "display_name": "Python 3",
   "language": "python",
   "name": "python3"
  },
  "language_info": {
   "codemirror_mode": {
    "name": "ipython",
    "version": 2
   },
   "file_extension": ".py",
   "mimetype": "text/x-python",
   "name": "python",
   "nbconvert_exporter": "python",
   "pygments_lexer": "ipython2",
   "version": "2.7.6"
  }
 },
 "nbformat": 4,
 "nbformat_minor": 5
}
